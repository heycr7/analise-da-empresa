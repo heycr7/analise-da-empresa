{
 "cells": [
  {
   "cell_type": "code",
   "execution_count": null,
   "metadata": {},
   "outputs": [],
   "source": [
    "import pandas as pd\n",
    "\n",
    "tabela = pd.read_csv(\"cancelamentos.csv\")\n",
    "tabela = tabela.drop(\"CustomerID\", axis=1)\n",
    "display(tabela)"
   ]
  },
  {
   "cell_type": "code",
   "execution_count": null,
   "metadata": {},
   "outputs": [],
   "source": [
    "# identificando e removendo valores vazios\n",
    "display(tabela.info())\n",
    "tabela = tabela.dropna()\n",
    "display(tabela.info())"
   ]
  },
  {
   "cell_type": "code",
   "execution_count": null,
   "metadata": {},
   "outputs": [],
   "source": [
    "# quantas pessoas cancelaram e não cancelaram\n",
    "display(tabela [\"cancelou\"].value_counts())\n",
    "display(tabela [\"cancelou\"].value_counts (normalize=True).map(\"{:.1%}\".format))"
   ]
  },
  {
   "cell_type": "code",
   "execution_count": null,
   "metadata": {},
   "outputs": [],
   "source": [
    "display(tabela [\"duracao_contrato\"].value_counts (normalize=True))\n",
    "display(tabela [\"duracao_contrato\"].value_counts())"
   ]
  },
  {
   "cell_type": "code",
   "execution_count": null,
   "metadata": {},
   "outputs": [],
   "source": [
    "# analisando o contrato mensal\n",
    "display(tabela.groupby(\"duracao_contrato\").mean(numeric_only=True))\n",
    "# descobrimos aqui que a media de cancelamento é 1, ou seja, praticamente todos os mensais cancelaram (ou todos)\n"
   ]
  },
  {
   "cell_type": "code",
   "execution_count": null,
   "metadata": {},
   "outputs": [],
   "source": [
    "# então descobrimos que contrato mensal é ruim, vamos tirar ele e continuar analisando\n",
    "tabela = tabela [tabela [\"duracao_contrato\"]!=\"Monthly\"]\n",
    "display(tabela)\n",
    "display(tabela [\"cancelou\"].value_counts())\n",
    "display(tabela [\"cancelou\"].value_counts(normalize=True).map(\"(:.1%}\".format))"
   ]
  },
  {
   "cell_type": "code",
   "execution_count": null,
   "metadata": {},
   "outputs": [],
   "source": [
    "#então descobrimos que contrato mensal é ruim, vamos tirar ele e continuar analisando\n",
    "tabela tabela [tabela [\"duracao_contrato\"]!=\"Monthly\"]\n",
    "display(tabela)\n",
    "display(tabela [\"cancelou\"].value_counts())\n",
    "display (tabela [\"cancelou\"].value_counts (normalize=True).map(\"(:.1%)\".format))"
   ]
  },
  {
   "cell_type": "code",
   "execution_count": null,
   "metadata": {},
   "outputs": [],
   "source": [
    "# chegamos agora em menos da metade de pessoas cancelando, mas ainda temos muitas pessoas al, vamos continuar analisando\n",
    "display(tabela [\"assinatura\"].value_counts(normalize=True))\n",
    "display(tabela.groupby(\"assinatura\").mean(numeric_only=True))\n",
    "# vemos que assinatura é quase 1/3, 1/3, 1/3\n",
    "# e que os cancelamentos são na média bem parecidos, então fica difícil tirar alguma conclusão da média, vamos precisar ir mais a fundo"
   ]
  },
  {
   "cell_type": "code",
   "execution_count": null,
   "metadata": {},
   "outputs": [],
   "source": [
    "# vamos criar gráfico, porque só com números tá difícil de visualizar\n",
    "import plotly.express as px\n",
    "\n",
    "for coluna in tabela.columns:\n",
    "    grafico = px.histogram(tabela, x=coluna, color=\"cancelamentos\")\n",
    "    grafico.show()"
   ]
  },
  {
   "cell_type": "code",
   "execution_count": null,
   "metadata": {},
   "outputs": [],
   "source": [
    "# com os graficos a gente consegue descobrir muita coisa:\n",
    "# dias atraso acima de 20 dias, 100% cancela\n",
    "# ligações call center acima de 5 todo mundo cancela\n",
    "\n",
    "tabelo = tabela[tabela[\"ligacoes_callcenter\"]<5]\n",
    "tabela = tabela[\"dias_atraso\"]<=20]\n",
    "display(tabela)\n",
    "display(tabela[\"cancelou\"].value_counts())\n",
    "display(tabela[\"cancelou\"].value_counts(normalize=True).map(\"{:.1%}\".format))\n",
    "\n",
    "# se resolvermos isso, já caímos para 18% de camclamento\n",
    "# é claro que 100% é utópico, mas com isso já temos as principais causas (ou talvez 3 das principais):\n",
    "# - forma de contrato mensal\n",
    "# - necessidade de ligações no call center\n",
    "# - atraso no pagamentos "
   ]
  }
 ],
 "metadata": {
  "kernelspec": {
   "display_name": "Python 3.8.10 64-bit",
   "language": "python",
   "name": "python3"
  },
  "language_info": {
   "name": "python",
   "version": "3.8.10"
  },
  "orig_nbformat": 4,
  "vscode": {
   "interpreter": {
    "hash": "916dbcbb3f70747c44a77c7bcd40155683ae19c65e1c03b4aa3499c5328201f1"
   }
  }
 },
 "nbformat": 4,
 "nbformat_minor": 2
}
